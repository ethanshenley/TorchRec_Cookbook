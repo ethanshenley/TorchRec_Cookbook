{
 "cells": [
  {
   "cell_type": "markdown",
   "metadata": {},
   "source": [
    "# TorchRec Data Types Overview"
   ]
  },
  {
   "cell_type": "code",
   "execution_count": null,
   "metadata": {},
   "outputs": [],
   "source": [
    "import torch\n",
    "import torchrec\n",
    "from torchrec.sparse.jagged_tensor import JaggedTensor, KeyedJaggedTensor\n",
    "from utils.data_generators import TorchRecDataGenerator\n",
    "from utils.visualization import TorchRecVisualizer\n",
    "from utils.debugging import TorchRecDebugger"
   ]
  },
  {
   "cell_type": "markdown",
   "metadata": {},
   "source": [
    "## JaggedTensor Basics"
   ]
  },
  {
   "cell_type": "code",
   "execution_count": null,
   "metadata": {},
   "outputs": [],
   "source": [
    "# Create a simple JaggedTensor\n",
    "values = torch.tensor([1, 2, 3, 4, 5, 6, 7])\n",
    "lengths = torch.tensor([2, 0, 3, 2])  # 4 sequences of different lengths\n",
    "\n",
    "jt = JaggedTensor(\n",
    "    values=values,\n",
    "    lengths=lengths\n",
    ")\n",
    "\n",
    "# Examine the structure\n",
    "print(\"JaggedTensor Structure:\")\n",
    "print(f\"Values: {jt.values()}\")\n",
    "print(f\"Lengths: {jt.lengths()}\")\n",
    "print(f\"Offsets: {jt.offsets()}\")"
   ]
  },
  {
   "cell_type": "markdown",
   "metadata": {},
   "source": [
    "### Working with JaggedTensor"
   ]
  },
  {
   "cell_type": "code",
   "execution_count": null,
   "metadata": {},
   "outputs": [],
   "source": [
    "# Convert to dense (list of tensors)\n",
    "dense_form = jt.to_dense()\n",
    "print(\"\\nDense representation:\")\n",
    "for i, tensor in enumerate(dense_form):\n",
    "    print(f\"Sequence {i}: {tensor}\")\n",
    "\n",
    "# Convert to padded dense (2D tensor)\n",
    "padded = jt.to_padded_dense(desired_length=3, padding_value=0)\n",
    "print(\"\\nPadded dense representation:\")\n",
    "print(padded)"
   ]
  },
  {
   "cell_type": "markdown",
   "metadata": {},
   "source": [
    "## KeyedJaggedTensor Basics"
   ]
  },
  {
   "cell_type": "code",
   "execution_count": null,
   "metadata": {},
   "outputs": [],
   "source": [
    "# Create sample data for multiple features\n",
    "product_values = torch.tensor([1, 2, 3, 4, 5])\n",
    "product_lengths = torch.tensor([2, 3])\n",
    "\n",
    "category_values = torch.tensor([10, 20, 30])\n",
    "category_lengths = torch.tensor([2, 1])\n",
    "\n",
    "# Create individual JaggedTensors\n",
    "product_jt = JaggedTensor(values=product_values, lengths=product_lengths)\n",
    "category_jt = JaggedTensor(values=category_values, lengths=category_lengths)\n",
    "\n",
    "# Create KeyedJaggedTensor from JaggedTensors\n",
    "kjt = KeyedJaggedTensor.from_jt_dict({\n",
    "    \"product_id\": product_jt,\n",
    "    \"category_id\": category_jt\n",
    "})\n",
    "\n",
    "print(\"\\nKeyedJaggedTensor Structure:\")\n",
    "print(f\"Keys: {kjt.keys()}\")\n",
    "print(f\"Values: {kjt.values()}\")\n",
    "print(f\"Lengths: {kjt.lengths()}\")"
   ]
  },
  {
   "cell_type": "markdown",
   "metadata": {},
   "source": [
    "### KeyedJaggedTensor Operations"
   ]
  },
  {
   "cell_type": "code",
   "execution_count": null,
   "metadata": {},
   "outputs": [],
   "source": [
    "# Convert back to dictionary of JaggedTensors\n",
    "jt_dict = kjt.to_dict()\n",
    "\n",
    "print(\"\\nIndividual features:\")\n",
    "for key, jt in jt_dict.items():\n",
    "    print(f\"\\n{key}:\")\n",
    "    print(f\"Values: {jt.values()}\")\n",
    "    print(f\"Lengths: {jt.lengths()}\""
   ]
  },
  {
   "cell_type": "markdown",
   "metadata": {},
   "source": [
    "## Real-world Example - User Interaction Data"
   ]
  },
  {
   "cell_type": "code",
   "execution_count": null,
   "metadata": {},
   "outputs": [],
   "source": [
    "# Initialize data generator\n",
    "data_config = DataConfig(\n",
    "    num_users=1000,\n",
    "    num_products=10000,\n",
    "    max_sequence_length=5,\n",
    "    min_sequence_length=1,\n",
    "    batch_size=3\n",
    ")\n",
    "\n",
    "data_gen = TorchRecDataGenerator(data_config)\n",
    "\n",
    "# Generate batch of user interaction data\n",
    "interaction_data = data_gen.generate_kjt_inputs([\n",
    "    \"product_history\",\n",
    "    \"category_history\",\n",
    "    \"search_terms\"\n",
    "])\n",
    "\n",
    "# Create KJT from interaction data\n",
    "interaction_kjt = KeyedJaggedTensor.from_lengths_sync(\n",
    "    keys=interaction_data[\"keys\"],\n",
    "    values=interaction_data[\"values\"],\n",
    "    lengths=interaction_data[\"lengths\"]\n",
    ")\n",
    "\n",
    "print(\"\\nUser Interaction Batch:\")\n",
    "print(f\"Number of features: {len(interaction_kjt.keys())}\")\n",
    "print(f\"Batch size: {len(interaction_kjt.lengths()) // len(interaction_kjt.keys())}\")\n",
    "print(f\"Total values: {len(interaction_kjt.values())}\")"
   ]
  },
  {
   "cell_type": "markdown",
   "metadata": {},
   "source": [
    "## Data Validation and Debugging"
   ]
  },
  {
   "cell_type": "code",
   "execution_count": null,
   "metadata": {},
   "outputs": [],
   "source": [
    "debugger = TorchRecDebugger()\n",
    "\n",
    "# Validate KJT structure\n",
    "validation_results = debugger.validate_kjt(interaction_kjt)\n",
    "print(\"\\nValidation Results:\")\n",
    "for check, status in validation_results.items():\n",
    "    print(f\"{check}: {'✅' if status else '❌'}\")"
   ]
  },
  {
   "cell_type": "markdown",
   "metadata": {},
   "source": [
    "## Device Management"
   ]
  },
  {
   "cell_type": "code",
   "execution_count": null,
   "metadata": {},
   "outputs": [],
   "source": [
    "if torch.cuda.is_available():\n",
    "    # Move to GPU\n",
    "    gpu_kjt = interaction_kjt.to(torch.device(\"cuda\"))\n",
    "    \n",
    "    print(\"\\nDevice Location:\")\n",
    "    print(f\"Values device: {gpu_kjt.values().device}\")\n",
    "    print(f\"Lengths device: {gpu_kjt.lengths().device}\")"
   ]
  },
  {
   "cell_type": "markdown",
   "metadata": {},
   "source": [
    "## Performance Considerations"
   ]
  },
  {
   "cell_type": "code",
   "execution_count": null,
   "metadata": {},
   "outputs": [],
   "source": [
    "# Create large batch for performance testing\n",
    "large_config = DataConfig(\n",
    "    num_users=10000,\n",
    "    num_products=100000,\n",
    "    max_sequence_length=50,\n",
    "    batch_size=32\n",
    ")\n",
    "\n",
    "large_data_gen = TorchRecDataGenerator(large_config)\n",
    "large_batch = large_data_gen.generate_kjt_inputs([\"product_history\"])\n",
    "\n",
    "# Memory usage before\n",
    "if torch.cuda.is_available():\n",
    "    print(\"\\nMemory Usage:\")\n",
    "    print(\"Before large batch:\")\n",
    "    print(f\"Allocated: {torch.cuda.memory_allocated() / 1e6:.2f}MB\")\n",
    "\n",
    "    # Create large KJT\n",
    "    large_kjt = KeyedJaggedTensor.from_lengths_sync(\n",
    "        keys=large_batch[\"keys\"],\n",
    "        values=large_batch[\"values\"].cuda(),\n",
    "        lengths=large_batch[\"lengths\"]\n",
    "    )\n",
    "\n",
    "    print(\"\\nAfter large batch:\")\n",
    "    print(f\"Allocated: {torch.cuda.memory_allocated() / 1e6:.2f}MB\")\n",
    "\n",
    "    # Clean up\n",
    "    debugger.clear_memory()"
   ]
  },
  {
   "cell_type": "markdown",
   "metadata": {},
   "source": [
    "## Visualization"
   ]
  },
  {
   "cell_type": "code",
   "execution_count": null,
   "metadata": {},
   "outputs": [],
   "source": [
    "visualizer = TorchRecVisualizer()\n",
    "\n",
    "# Create sample embeddings for visualization\n",
    "sample_embeddings = torch.randn(100, 16)  # 100 embeddings of dim 16\n",
    "visualizer.plot_embedding_distribution(sample_embeddings)"
   ]
  },
  {
   "cell_type": "markdown",
   "metadata": {},
   "source": [
    "# Summary of operations"
   ]
  },
  {
   "cell_type": "code",
   "execution_count": null,
   "metadata": {},
   "outputs": [],
   "source": [
    "summary = {\n",
    "    \"JaggedTensor\": {\n",
    "        \"creation_methods\": [\"direct\", \"from_dense\", \"from_lengths\"],\n",
    "        \"operations\": [\"to_dense\", \"to_padded_dense\", \"lengths\", \"offsets\"],\n",
    "        \"use_cases\": [\"variable length sequences\", \"sparse features\"]\n",
    "    },\n",
    "    \"KeyedJaggedTensor\": {\n",
    "        \"creation_methods\": [\"from_jt_dict\", \"from_lengths_sync\", \"from_offsets_sync\"],\n",
    "        \"operations\": [\"to_dict\", \"keys\", \"values\", \"lengths\"],\n",
    "        \"use_cases\": [\"multi-feature data\", \"batch processing\", \"embedding lookups\"]\n",
    "    }\n",
    "}\n",
    "\n",
    "print(\"\\nData Types Summary:\")\n",
    "for dtype, info in summary.items():\n",
    "    print(f\"\\n{dtype}:\")\n",
    "    for category, items in info.items():\n",
    "        print(f\"  {category}: {items}\")"
   ]
  }
 ],
 "metadata": {
  "language_info": {
   "name": "python"
  }
 },
 "nbformat": 4,
 "nbformat_minor": 2
}
